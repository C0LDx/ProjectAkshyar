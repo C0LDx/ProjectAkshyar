{
 "cells": [
  {
   "cell_type": "code",
   "execution_count": 19,
   "id": "a040a1aa-84b1-4d05-9f51-d23093af913e",
   "metadata": {},
   "outputs": [],
   "source": [
    "import tensorflow as tf\n",
    "from tensorflow import keras\n",
    "from keras import Sequential\n",
    "from keras.layers import Dense, Conv2D, MaxPooling2D, Flatten, BatchNormalization, Dropout"
   ]
  },
  {
   "cell_type": "code",
   "execution_count": 20,
   "id": "fa38540d-0067-4ca0-9378-2cd61a542f4a",
   "metadata": {},
   "outputs": [
    {
     "name": "stdout",
     "output_type": "stream",
     "text": [
      "['०', '१', '२', '३', '४', '५', '६', '७', '८', '९', 'अ', 'आ', 'इ', 'ई', 'उ', 'ऊ', 'ए', 'ऐ', 'ओ', 'औ', 'अं', 'अः', 'क', 'ख', 'ग', 'घ', 'ङ', 'च', 'छ', 'ज', 'झ', 'ञ', 'ट', 'ठ', 'ड', 'ढ', 'ण', 'त', 'थ', 'द', 'ध', 'न', 'प', 'फ', 'ब', 'भ', 'म', 'य', 'र', 'ल', 'व', 'श', 'ष', 'स', 'ह', 'क्ष', 'त्र', 'ज्ञ']\n"
     ]
    }
   ],
   "source": [
    "classes = [u'\\u0966', u'\\u0967', u'\\u0968', u'\\u0969', u'\\u096A', u'\\u096B', u'\\u096C', u'\\u096D', u'\\u096E', u'\\u096F', u'\\u0905', u'\\u0906',\n",
    "           u'\\u0907', u'\\u0908', u'\\u0909', u'\\u090A', u'\\u090F', u'\\u0910', u'\\u0913', u'\\u0914', u'\\u0905'+u'\\u0902', u'\\u0905'+u'\\u0903', u'\\u0915', \n",
    "           u'\\u0916', u'\\u0917', u'\\u0918', u'\\u0919', u'\\u091A', u'\\u091B', u'\\u091C', u'\\u091D', u'\\u091E', u'\\u091F', u'\\u0920', u'\\u0921', \n",
    "           u'\\u0922', u'\\u0923', u'\\u0924', u'\\u0925', u'\\u0926', u'\\u0927', u'\\u0928', u'\\u092A', u'\\u092B', u'\\u092C', u'\\u092D', \n",
    "           u'\\u092E', u'\\u092F', u'\\u0930', u'\\u0932', u'\\u0935', u'\\u0936', u'\\u0937', u'\\u0938', u'\\u0939', 'क्ष', u'\\u0924'+u'\\u094D'+u'\\u0930', \n",
    "           'ज्ञ' ]\n",
    "print(classes[:])"
   ]
  },
  {
   "cell_type": "code",
   "execution_count": 21,
   "id": "1dc98b47-f740-44b0-b497-b73f3bd8581d",
   "metadata": {},
   "outputs": [
    {
     "name": "stdout",
     "output_type": "stream",
     "text": [
      "Found 10316 files belonging to 58 classes.\n",
      "Found 2596 files belonging to 58 classes.\n"
     ]
    }
   ],
   "source": [
    "train_ds = keras.utils.image_dataset_from_directory(\n",
    "    directory = './dataset/train',\n",
    "    labels = 'inferred',\n",
    "    label_mode = 'int',\n",
    "    batch_size = 32,\n",
    "    image_size = (32,32)\n",
    ")\n",
    "validation_ds = keras.utils.image_dataset_from_directory(\n",
    "    directory = './dataset/test',\n",
    "    labels = 'inferred',\n",
    "    label_mode = 'int',\n",
    "    batch_size = 32,\n",
    "    image_size = (32,32)\n",
    ")"
   ]
  },
  {
   "cell_type": "code",
   "execution_count": 22,
   "id": "8188951f-c1c3-45ee-bf32-31af379112a9",
   "metadata": {},
   "outputs": [],
   "source": [
    "def process(image, label):\n",
    "  image = tf.cast(image/255, tf.float32)\n",
    "  return image,label\n",
    "\n",
    "train_ds = train_ds.map(process)\n",
    "validation_ds = validation_ds.map(process)"
   ]
  },
  {
   "cell_type": "code",
   "execution_count": 27,
   "id": "4c684ddb-6ae4-41d7-a754-a248c7a98910",
   "metadata": {},
   "outputs": [],
   "source": [
    "model = Sequential()\n",
    "\n",
    "model.add(Conv2D(32, (3, 3), activation='relu', input_shape=(32, 32, 3)))\n",
    "model.add(Conv2D(64, (3, 3), activation='relu'))\n",
    "model.add(MaxPooling2D(pool_size=(2, 2)))\n",
    "model.add(Dropout(0.25))\n",
    "\n",
    "model.add(Conv2D(64, (3, 3), activation='relu'))\n",
    "model.add(Conv2D(128, (3, 3), activation='relu'))\n",
    "model.add(MaxPooling2D(pool_size=(2, 2)))\n",
    "model.add(Dropout(0.25))\n",
    "\n",
    "model.add(Flatten())\n",
    "model.add(Dense(256, activation='relu'))\n",
    "model.add(Dropout(0.5))\n",
    "model.add(Dense(58, activation='softmax'))"
   ]
  },
  {
   "cell_type": "code",
   "execution_count": 28,
   "id": "09110183-2550-4203-9d5c-593243164557",
   "metadata": {},
   "outputs": [
    {
     "name": "stdout",
     "output_type": "stream",
     "text": [
      "Model: \"sequential_9\"\n",
      "_________________________________________________________________\n",
      " Layer (type)                Output Shape              Param #   \n",
      "=================================================================\n",
      " conv2d_52 (Conv2D)          (None, 30, 30, 32)        896       \n",
      "                                                                 \n",
      " conv2d_53 (Conv2D)          (None, 28, 28, 64)        18496     \n",
      "                                                                 \n",
      " max_pooling2d_26 (MaxPooli  (None, 14, 14, 64)        0         \n",
      " ng2D)                                                           \n",
      "                                                                 \n",
      " dropout_19 (Dropout)        (None, 14, 14, 64)        0         \n",
      "                                                                 \n",
      " conv2d_54 (Conv2D)          (None, 12, 12, 64)        36928     \n",
      "                                                                 \n",
      " conv2d_55 (Conv2D)          (None, 10, 10, 128)       73856     \n",
      "                                                                 \n",
      " max_pooling2d_27 (MaxPooli  (None, 5, 5, 128)         0         \n",
      " ng2D)                                                           \n",
      "                                                                 \n",
      " dropout_20 (Dropout)        (None, 5, 5, 128)         0         \n",
      "                                                                 \n",
      " flatten_1 (Flatten)         (None, 3200)              0         \n",
      "                                                                 \n",
      " dense_2 (Dense)             (None, 256)               819456    \n",
      "                                                                 \n",
      " dropout_21 (Dropout)        (None, 256)               0         \n",
      "                                                                 \n",
      " dense_3 (Dense)             (None, 58)                14906     \n",
      "                                                                 \n",
      "=================================================================\n",
      "Total params: 964538 (3.68 MB)\n",
      "Trainable params: 964538 (3.68 MB)\n",
      "Non-trainable params: 0 (0.00 Byte)\n",
      "_________________________________________________________________\n"
     ]
    }
   ],
   "source": [
    "model.summary()"
   ]
  },
  {
   "cell_type": "code",
   "execution_count": 30,
   "id": "39509ad3-94b4-42f8-9f24-8d0fa54db96c",
   "metadata": {},
   "outputs": [],
   "source": [
    "model.compile(optimizer='adam', loss='sparse_categorical_crossentropy', metrics=['accuracy'])"
   ]
  },
  {
   "cell_type": "code",
   "execution_count": 31,
   "id": "047a2b64-d047-46d0-bb41-041329ad4b36",
   "metadata": {},
   "outputs": [
    {
     "name": "stdout",
     "output_type": "stream",
     "text": [
      "Epoch 1/15\n",
      "WARNING:tensorflow:From C:\\Users\\ferna\\AppData\\Local\\Programs\\Python\\Python310\\lib\\site-packages\\keras\\src\\utils\\tf_utils.py:492: The name tf.ragged.RaggedTensorValue is deprecated. Please use tf.compat.v1.ragged.RaggedTensorValue instead.\n",
      "\n",
      "WARNING:tensorflow:From C:\\Users\\ferna\\AppData\\Local\\Programs\\Python\\Python310\\lib\\site-packages\\keras\\src\\engine\\base_layer_utils.py:384: The name tf.executing_eagerly_outside_functions is deprecated. Please use tf.compat.v1.executing_eagerly_outside_functions instead.\n",
      "\n",
      "323/323 [==============================] - 38s 112ms/step - loss: 3.6523 - accuracy: 0.1059 - val_loss: 2.0348 - val_accuracy: 0.4892\n",
      "Epoch 2/15\n",
      "323/323 [==============================] - 20s 62ms/step - loss: 1.6759 - accuracy: 0.5327 - val_loss: 0.7943 - val_accuracy: 0.7693\n",
      "Epoch 3/15\n",
      "323/323 [==============================] - 20s 61ms/step - loss: 0.9679 - accuracy: 0.7155 - val_loss: 0.5378 - val_accuracy: 0.8409\n",
      "Epoch 4/15\n",
      "323/323 [==============================] - 20s 62ms/step - loss: 0.7204 - accuracy: 0.7802 - val_loss: 0.4147 - val_accuracy: 0.8748\n",
      "Epoch 5/15\n",
      "323/323 [==============================] - 20s 63ms/step - loss: 0.5762 - accuracy: 0.8199 - val_loss: 0.3871 - val_accuracy: 0.8856\n",
      "Epoch 6/15\n",
      "323/323 [==============================] - 20s 62ms/step - loss: 0.4993 - accuracy: 0.8400 - val_loss: 0.3546 - val_accuracy: 0.8925\n",
      "Epoch 7/15\n",
      "323/323 [==============================] - 20s 62ms/step - loss: 0.4148 - accuracy: 0.8673 - val_loss: 0.3189 - val_accuracy: 0.8956\n",
      "Epoch 8/15\n",
      "323/323 [==============================] - 20s 63ms/step - loss: 0.3728 - accuracy: 0.8798 - val_loss: 0.2871 - val_accuracy: 0.9049\n",
      "Epoch 9/15\n",
      "323/323 [==============================] - 20s 63ms/step - loss: 0.3392 - accuracy: 0.8885 - val_loss: 0.2642 - val_accuracy: 0.9191\n",
      "Epoch 10/15\n",
      "323/323 [==============================] - 21s 64ms/step - loss: 0.3046 - accuracy: 0.9031 - val_loss: 0.2673 - val_accuracy: 0.9191\n",
      "Epoch 11/15\n",
      "323/323 [==============================] - 21s 65ms/step - loss: 0.2897 - accuracy: 0.9026 - val_loss: 0.2527 - val_accuracy: 0.9203\n",
      "Epoch 12/15\n",
      "323/323 [==============================] - 21s 65ms/step - loss: 0.2579 - accuracy: 0.9143 - val_loss: 0.2497 - val_accuracy: 0.9176\n",
      "Epoch 13/15\n",
      "323/323 [==============================] - 21s 65ms/step - loss: 0.2510 - accuracy: 0.9161 - val_loss: 0.2414 - val_accuracy: 0.9264\n",
      "Epoch 14/15\n",
      "323/323 [==============================] - 22s 66ms/step - loss: 0.2198 - accuracy: 0.9254 - val_loss: 0.2200 - val_accuracy: 0.9318\n",
      "Epoch 15/15\n",
      "323/323 [==============================] - 22s 68ms/step - loss: 0.2179 - accuracy: 0.9286 - val_loss: 0.2422 - val_accuracy: 0.9249\n"
     ]
    }
   ],
   "source": [
    "history = model.fit(train_ds, epochs=15, validation_data=validation_ds)"
   ]
  },
  {
   "cell_type": "code",
   "execution_count": 33,
   "id": "97830eae-f8ff-42c1-90c1-a87b8ab14c16",
   "metadata": {},
   "outputs": [],
   "source": [
    "import cv2\n",
    "import matplotlib.pyplot as plt"
   ]
  },
  {
   "cell_type": "code",
   "execution_count": 85,
   "id": "36e3b3e8-b4b3-427b-8a99-72c24d37d630",
   "metadata": {},
   "outputs": [
    {
     "data": {
      "text/plain": [
       "<matplotlib.image.AxesImage at 0x2b337114c40>"
      ]
     },
     "execution_count": 85,
     "metadata": {},
     "output_type": "execute_result"
    },
    {
     "data": {
      "image/png": "[encoded data removed]",
      "text/plain": [
       "<Figure size 640x480 with 1 Axes>"
      ]
     },
     "metadata": {},
     "output_type": "display_data"
    }
   ],
   "source": [
    "test_img = cv2.imread('test.jpg')\n",
    "test_img  = cv2.resize(test_img, (32,32))\n",
    "plt.imshow(test_img)"
   ]
  },
  {
   "cell_type": "code",
   "execution_count": 86,
   "id": "51a328e9-573a-41b2-974b-84cbd9720044",
   "metadata": {},
   "outputs": [],
   "source": [
    "test_input = test_img.reshape((1,32,32,3))"
   ]
  },
  {
   "cell_type": "code",
   "execution_count": 87,
   "id": "78408c24-f4b8-442b-ae10-9a33a85f63c3",
   "metadata": {},
   "outputs": [
    {
     "name": "stdout",
     "output_type": "stream",
     "text": [
      "1/1 [==============================] - 0s 28ms/step\n"
     ]
    }
   ],
   "source": [
    "prob = model.predict(test_input)"
   ]
  },
  {
   "cell_type": "code",
   "execution_count": 52,
   "id": "b0effdb0-e003-4c02-82d7-37e6562f0d1d",
   "metadata": {},
   "outputs": [
    {
     "data": {
      "text/plain": [
       "array([27], dtype=int64)"
      ]
     },
     "execution_count": 52,
     "metadata": {},
     "output_type": "execute_result"
    }
   ],
   "source": [
    "pred = prob.argmax(axis=-1)\n",
    "pred"
   ]
  },
  {
   "cell_type": "code",
   "execution_count": 34,
   "id": "35090525-1ba7-4deb-8505-3666fd69be15",
   "metadata": {},
   "outputs": [
    {
     "ename": "NameError",
     "evalue": "name 'pred' is not defined",
     "output_type": "error",
     "traceback": [
      "\u001b[1;31m---------------------------------------------------------------------------\u001b[0m",
      "\u001b[1;31mNameError\u001b[0m                                 Traceback (most recent call last)",
      "Cell \u001b[1;32mIn[34], line 1\u001b[0m\n\u001b[1;32m----> 1\u001b[0m \u001b[38;5;28mprint\u001b[39m(\u001b[38;5;124m'\u001b[39m\u001b[38;5;124mPredicted as: \u001b[39m\u001b[38;5;124m'\u001b[39m, classes[\u001b[43mpred\u001b[49m[\u001b[38;5;241m0\u001b[39m]])\n",
      "\u001b[1;31mNameError\u001b[0m: name 'pred' is not defined"
     ]
    }
   ],
   "source": [
    "print('Predicted as: ', classes[pred[0]])"
   ]
  },
  {
   "cell_type": "code",
   "execution_count": 35,
   "id": "79af5285-0b23-4548-8678-14d3cbf9415d",
   "metadata": {},
   "outputs": [],
   "source": [
    "#For testing words segmented by the other script\n",
    "import os\n",
    "import numpy as np"
   ]
  },
  {
   "cell_type": "code",
   "execution_count": 36,
   "id": "31949cc1-dc1d-4a44-8943-e8d09de037af",
   "metadata": {},
   "outputs": [
    {
     "data": {
      "text/plain": [
       "3"
      ]
     },
     "execution_count": 36,
     "metadata": {},
     "output_type": "execute_result"
    }
   ],
   "source": [
    "images = [img for img in os.listdir('./temp')]\n",
    "len(images)"
   ]
  },
  {
   "cell_type": "code",
   "execution_count": 37,
   "id": "5b6d700d-14d0-4e28-bd0b-feede173b781",
   "metadata": {},
   "outputs": [],
   "source": [
    "predicted_string = ''"
   ]
  },
  {
   "cell_type": "code",
   "execution_count": 38,
   "id": "70cd38d3-1d1b-425c-bc88-877a5ff2c8bb",
   "metadata": {},
   "outputs": [
    {
     "name": "stdout",
     "output_type": "stream",
     "text": [
      "1/1 [==============================] - 0s 137ms/step\n",
      "Predicted as:  क\n",
      "1/1 [==============================] - 0s 26ms/step\n",
      "Predicted as:  ल\n",
      "1/1 [==============================] - 0s 26ms/step\n",
      "Predicted as:  म\n"
     ]
    }
   ],
   "source": [
    "for img in images:\n",
    "    test_img = cv2.imread(os.path.join('./temp', img))\n",
    "    test_img = cv2.bitwise_not(test_img)\n",
    "    test_img = cv2.GaussianBlur(test_img, (5,5), 0)\n",
    "    kernel = np.ones((1,1),np.uint8)\n",
    "    test_img = cv2.erode(test_img,kernel,iterations = 1)\n",
    "    kernel = np.ones((5,5),np.uint8)\n",
    "    test_img = cv2.dilate(test_img, kernel, iterations = 2)\n",
    "    test_img = cv2.bitwise_not(test_img)\n",
    "    test_img  = cv2.resize(test_img, (32,32))\n",
    "    #cv2.imshow(img, test_img)\n",
    "    #cv2.waitKey(0)\n",
    "    #cv2.destroyAllWindows()\n",
    "    test_input = test_img.reshape((1,32,32,3))\n",
    "    prob = model.predict(test_input)\n",
    "    pred = prob.argmax(axis=-1)\n",
    "    print('Predicted as: ', classes[pred[0]])\n",
    "    predicted_string = predicted_string + classes[pred[0]]"
   ]
  },
  {
   "cell_type": "code",
   "execution_count": 39,
   "id": "32d054a5-bcb8-423d-bda5-03a7fb6cdc73",
   "metadata": {},
   "outputs": [
    {
     "data": {
      "text/plain": [
       "'कलम'"
      ]
     },
     "execution_count": 39,
     "metadata": {},
     "output_type": "execute_result"
    }
   ],
   "source": [
    "predicted_string"
   ]
  },
  {
   "cell_type": "code",
   "execution_count": 42,
   "id": "0c0a1bee-67a1-41d3-a996-f544c63db526",
   "metadata": {},
   "outputs": [],
   "source": [
    "model.save('model.h5')"
   ]
  }
 ],
 "metadata": {
  "kernelspec": {
   "display_name": "Python 3 (ipykernel)",
   "language": "python",
   "name": "python3"
  },
  "language_info": {
   "codemirror_mode": {
    "name": "ipython",
    "version": 3
   },
   "file_extension": ".py",
   "mimetype": "text/x-python",
   "name": "python",
   "nbconvert_exporter": "python",
   "pygments_lexer": "ipython3",
   "version": "3.10.11"
  }
 },
 "nbformat": 4,
 "nbformat_minor": 5
}
