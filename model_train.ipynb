{
 "cells": [
  {
   "cell_type": "code",
   "execution_count": 1,
   "id": "a040a1aa-84b1-4d05-9f51-d23093af913e",
   "metadata": {},
   "outputs": [
    {
     "name": "stdout",
     "output_type": "stream",
     "text": [
      "WARNING:tensorflow:From C:\\Users\\ferna\\AppData\\Local\\Programs\\Python\\Python310\\lib\\site-packages\\keras\\src\\losses.py:2976: The name tf.losses.sparse_softmax_cross_entropy is deprecated. Please use tf.compat.v1.losses.sparse_softmax_cross_entropy instead.\n",
      "\n"
     ]
    }
   ],
   "source": [
    "import tensorflow as tf\n",
    "from tensorflow import keras\n",
    "from keras.models import load_model\n",
    "from keras import Sequential\n",
    "from keras.layers import Dense, Conv2D, MaxPooling2D, Flatten, BatchNormalization, Dropout\n",
    "from tensorflow.keras.optimizers import SGD"
   ]
  },
  {
   "cell_type": "code",
   "execution_count": 2,
   "id": "fa38540d-0067-4ca0-9378-2cd61a542f4a",
   "metadata": {},
   "outputs": [
    {
     "name": "stdout",
     "output_type": "stream",
     "text": [
      "['०', '१', '२', '३', '४', '५', '६', '७', '८', '९', 'अ', 'आ', 'इ', 'ई', 'उ', 'ऊ', 'ए', 'ऐ', 'ओ', 'औ', 'अं', 'अः', 'क', 'ख', 'ग', 'घ', 'ङ', 'च', 'छ', 'ज', 'झ', 'ञ', 'ट', 'ठ', 'ड', 'ढ', 'ण', 'त', 'थ', 'द', 'ध', 'न', 'प', 'फ', 'ब', 'भ', 'म', 'य', 'र', 'ल', 'व', 'श', 'ष', 'स', 'ह', 'क्ष', 'त्र', 'ज्ञ']\n"
     ]
    }
   ],
   "source": [
    "classes = [u'\\u0966', u'\\u0967', u'\\u0968', u'\\u0969', u'\\u096A', u'\\u096B', u'\\u096C', u'\\u096D', u'\\u096E', u'\\u096F', u'\\u0905', u'\\u0906',\n",
    "           u'\\u0907', u'\\u0908', u'\\u0909', u'\\u090A', u'\\u090F', u'\\u0910', u'\\u0913', u'\\u0914', u'\\u0905'+u'\\u0902', u'\\u0905'+u'\\u0903', u'\\u0915', \n",
    "           u'\\u0916', u'\\u0917', u'\\u0918', u'\\u0919', u'\\u091A', u'\\u091B', u'\\u091C', u'\\u091D', u'\\u091E', u'\\u091F', u'\\u0920', u'\\u0921', \n",
    "           u'\\u0922', u'\\u0923', u'\\u0924', u'\\u0925', u'\\u0926', u'\\u0927', u'\\u0928', u'\\u092A', u'\\u092B', u'\\u092C', u'\\u092D', \n",
    "           u'\\u092E', u'\\u092F', u'\\u0930', u'\\u0932', u'\\u0935', u'\\u0936', u'\\u0937', u'\\u0938', u'\\u0939', 'क्ष', u'\\u0924'+u'\\u094D'+u'\\u0930', \n",
    "           'ज्ञ' ]\n",
    "print(classes[:])"
   ]
  },
  {
   "cell_type": "code",
   "execution_count": 47,
   "id": "1dc98b47-f740-44b0-b497-b73f3bd8581d",
   "metadata": {},
   "outputs": [
    {
     "name": "stdout",
     "output_type": "stream",
     "text": [
      "Found 104755 files belonging to 58 classes.\n",
      "Found 27997 files belonging to 58 classes.\n"
     ]
    }
   ],
   "source": [
    "train_ds = keras.utils.image_dataset_from_directory(\n",
    "    directory = './dataset/train/',\n",
    "    labels = 'inferred',\n",
    "    label_mode = 'categorical',\n",
    "    batch_size = 128,\n",
    "    image_size = (32,32)\n",
    ")\n",
    "validation_ds = keras.utils.image_dataset_from_directory(\n",
    "    directory = './dataset/test/',\n",
    "    labels = 'inferred',\n",
    "    label_mode = 'categorical',\n",
    "    batch_size = 128,\n",
    "    image_size = (32,32)\n",
    ")"
   ]
  },
  {
   "cell_type": "code",
   "execution_count": 48,
   "id": "8188951f-c1c3-45ee-bf32-31af379112a9",
   "metadata": {},
   "outputs": [],
   "source": [
    "def process(image, label):\n",
    "  image = tf.cast(image/255, tf.float32)\n",
    "  return image,label\n",
    "\n",
    "train_ds = train_ds.map(process)\n",
    "validation_ds = validation_ds.map(process)"
   ]
  },
  {
   "cell_type": "code",
   "execution_count": 18,
   "id": "24c764fb-aa8c-449c-8927-e87f3b936716",
   "metadata": {},
   "outputs": [],
   "source": [
    "model = Sequential()\n",
    "model.add(Conv2D(32, (3, 3), activation='relu', input_shape=(32, 32, 3)))\n",
    "model.add(MaxPooling2D((2, 2)))\n",
    "model.add(BatchNormalization())\n",
    "model.add(Conv2D(64, (3, 3), activation='relu'))\n",
    "model.add(MaxPooling2D((2, 2)))\n",
    "model.add(Conv2D(128, (3, 3), activation='relu'))\n",
    "model.add(Conv2D(128, (3, 3), activation='relu'))\n",
    "model.add(MaxPooling2D((2, 2)))\n",
    "model.add(Flatten())\n",
    "model.add(Dense(256, activation='relu'))\n",
    "model.add(Dropout(0.45))\n",
    "model.add(Dense(128, activation='relu'))\n",
    "model.add(Dropout(0.4))\n",
    "model.add(Dense(58, activation='softmax'))"
   ]
  },
  {
   "cell_type": "code",
   "execution_count": 43,
   "id": "4c684ddb-6ae4-41d7-a754-a248c7a98910",
   "metadata": {},
   "outputs": [],
   "source": [
    "model = Sequential()\n",
    "\n",
    "model.add(Conv2D(32, (3, 3), activation='relu', input_shape=(32, 32, 3)))\n",
    "model.add(Conv2D(64, (3, 3), activation='relu'))\n",
    "model.add(MaxPooling2D(pool_size=(2, 2)))\n",
    "model.add(Dropout(0.4))\n",
    "\n",
    "model.add(Conv2D(128, (3, 3), activation='relu'))\n",
    "model.add(Conv2D(128, (3, 3), activation='relu'))\n",
    "model.add(MaxPooling2D(pool_size=(2, 2)))\n",
    "model.add(Dropout(0.4))\n",
    "\n",
    "model.add(Flatten())\n",
    "model.add(Dense(256, activation='relu'))\n",
    "model.add(Dropout(0.5))\n",
    "model.add(Dense(128, activation='relu'))\n",
    "#model.add(Dropout(0.4))\n",
    "model.add(Dense(58, activation='softmax'))"
   ]
  },
  {
   "cell_type": "code",
   "execution_count": 67,
   "id": "69d2f1f4-da42-4fd2-97df-8da1452a1723",
   "metadata": {},
   "outputs": [],
   "source": [
    "model = Sequential()\n",
    "model.add(Conv2D(32, kernel_size=3, activation='relu', input_shape=(32,32,3), padding='same'))\n",
    "model.add(Conv2D(32, kernel_size=3, activation='relu', padding='same'))\n",
    "model.add(MaxPooling2D((2, 2)))\n",
    "model.add(Dropout(0.2))\n",
    "model.add(Conv2D(64, kernel_size=5, activation='relu'))\n",
    "model.add(Conv2D(64, kernel_size=5, activation='relu'))\n",
    "model.add(MaxPooling2D((2, 2)))\n",
    "model.add(Dropout(0.2))\n",
    "model.add(Flatten())\n",
    "model.add(Dense(400, activation='relu'))\n",
    "model.add(Dense(100, activation='relu'))\n",
    "model.add(Dense(58, activation='softmax'))\n",
    "#opt = SGD(learning_rate=0.001, momentum=0.9)"
   ]
  },
  {
   "cell_type": "code",
   "execution_count": 68,
   "id": "09110183-2550-4203-9d5c-593243164557",
   "metadata": {},
   "outputs": [
    {
     "name": "stdout",
     "output_type": "stream",
     "text": [
      "Model: \"sequential_7\"\n",
      "_________________________________________________________________\n",
      " Layer (type)                Output Shape              Param #   \n",
      "=================================================================\n",
      " conv2d_28 (Conv2D)          (None, 32, 32, 32)        896       \n",
      "                                                                 \n",
      " conv2d_29 (Conv2D)          (None, 32, 32, 32)        9248      \n",
      "                                                                 \n",
      " max_pooling2d_14 (MaxPooli  (None, 16, 16, 32)        0         \n",
      " ng2D)                                                           \n",
      "                                                                 \n",
      " dropout_14 (Dropout)        (None, 16, 16, 32)        0         \n",
      "                                                                 \n",
      " conv2d_30 (Conv2D)          (None, 12, 12, 64)        51264     \n",
      "                                                                 \n",
      " conv2d_31 (Conv2D)          (None, 8, 8, 64)          102464    \n",
      "                                                                 \n",
      " max_pooling2d_15 (MaxPooli  (None, 4, 4, 64)          0         \n",
      " ng2D)                                                           \n",
      "                                                                 \n",
      " dropout_15 (Dropout)        (None, 4, 4, 64)          0         \n",
      "                                                                 \n",
      " flatten_7 (Flatten)         (None, 1024)              0         \n",
      "                                                                 \n",
      " dense_21 (Dense)            (None, 400)               410000    \n",
      "                                                                 \n",
      " dense_22 (Dense)            (None, 100)               40100     \n",
      "                                                                 \n",
      " dense_23 (Dense)            (None, 58)                5858      \n",
      "                                                                 \n",
      "=================================================================\n",
      "Total params: 619830 (2.36 MB)\n",
      "Trainable params: 619830 (2.36 MB)\n",
      "Non-trainable params: 0 (0.00 Byte)\n",
      "_________________________________________________________________\n"
     ]
    }
   ],
   "source": [
    "model.summary()"
   ]
  },
  {
   "cell_type": "code",
   "execution_count": 69,
   "id": "39509ad3-94b4-42f8-9f24-8d0fa54db96c",
   "metadata": {},
   "outputs": [],
   "source": [
    "model.compile(optimizer='adam', loss='categorical_crossentropy', metrics=['accuracy'])"
   ]
  },
  {
   "cell_type": "code",
   "execution_count": 70,
   "id": "047a2b64-d047-46d0-bb41-041329ad4b36",
   "metadata": {},
   "outputs": [
    {
     "name": "stdout",
     "output_type": "stream",
     "text": [
      "Epoch 1/20\n",
      "819/819 [==============================] - 142s 171ms/step - loss: 0.9726 - accuracy: 0.7271 - val_loss: 0.3851 - val_accuracy: 0.8815\n",
      "Epoch 2/20\n",
      "819/819 [==============================] - 133s 162ms/step - loss: 0.2054 - accuracy: 0.9319 - val_loss: 0.2608 - val_accuracy: 0.9217\n",
      "Epoch 3/20\n",
      "819/819 [==============================] - 133s 162ms/step - loss: 0.1180 - accuracy: 0.9609 - val_loss: 0.2413 - val_accuracy: 0.9312\n",
      "Epoch 4/20\n",
      "819/819 [==============================] - 135s 165ms/step - loss: 0.0886 - accuracy: 0.9706 - val_loss: 0.2504 - val_accuracy: 0.9306\n",
      "Epoch 5/20\n",
      "819/819 [==============================] - 133s 162ms/step - loss: 0.0668 - accuracy: 0.9779 - val_loss: 0.2471 - val_accuracy: 0.9354\n",
      "Epoch 6/20\n",
      "819/819 [==============================] - 133s 162ms/step - loss: 0.0600 - accuracy: 0.9800 - val_loss: 0.2641 - val_accuracy: 0.9333\n",
      "Epoch 7/20\n",
      "819/819 [==============================] - 133s 163ms/step - loss: 0.0531 - accuracy: 0.9821 - val_loss: 0.2526 - val_accuracy: 0.9402\n",
      "Epoch 8/20\n",
      "819/819 [==============================] - 134s 163ms/step - loss: 0.0455 - accuracy: 0.9849 - val_loss: 0.2619 - val_accuracy: 0.9381\n",
      "Epoch 9/20\n",
      "819/819 [==============================] - 134s 163ms/step - loss: 0.0419 - accuracy: 0.9862 - val_loss: 0.2405 - val_accuracy: 0.9410\n",
      "Epoch 10/20\n",
      "819/819 [==============================] - 135s 164ms/step - loss: 0.0399 - accuracy: 0.9869 - val_loss: 0.2512 - val_accuracy: 0.9428\n",
      "Epoch 11/20\n",
      "819/819 [==============================] - 134s 163ms/step - loss: 0.0339 - accuracy: 0.9889 - val_loss: 0.2893 - val_accuracy: 0.9434\n",
      "Epoch 12/20\n",
      "819/819 [==============================] - 134s 163ms/step - loss: 0.0339 - accuracy: 0.9889 - val_loss: 0.2698 - val_accuracy: 0.9394\n",
      "Epoch 13/20\n",
      "819/819 [==============================] - 134s 164ms/step - loss: 0.0310 - accuracy: 0.9896 - val_loss: 0.2487 - val_accuracy: 0.9486\n",
      "Epoch 14/20\n",
      "819/819 [==============================] - 134s 164ms/step - loss: 0.0286 - accuracy: 0.9908 - val_loss: 0.2368 - val_accuracy: 0.9469\n",
      "Epoch 15/20\n",
      "819/819 [==============================] - 134s 164ms/step - loss: 0.0280 - accuracy: 0.9910 - val_loss: 0.2650 - val_accuracy: 0.9459\n",
      "Epoch 16/20\n",
      "819/819 [==============================] - 135s 164ms/step - loss: 0.0276 - accuracy: 0.9911 - val_loss: 0.2565 - val_accuracy: 0.9466\n",
      "Epoch 17/20\n",
      "819/819 [==============================] - 135s 164ms/step - loss: 0.0250 - accuracy: 0.9920 - val_loss: 0.2430 - val_accuracy: 0.9486\n",
      "Epoch 18/20\n",
      "819/819 [==============================] - 136s 166ms/step - loss: 0.0214 - accuracy: 0.9932 - val_loss: 0.2798 - val_accuracy: 0.9489\n",
      "Epoch 19/20\n",
      "819/819 [==============================] - 136s 166ms/step - loss: 0.0233 - accuracy: 0.9928 - val_loss: 0.2639 - val_accuracy: 0.9472\n",
      "Epoch 20/20\n",
      "819/819 [==============================] - 136s 165ms/step - loss: 0.0228 - accuracy: 0.9929 - val_loss: 0.2893 - val_accuracy: 0.9466\n"
     ]
    }
   ],
   "source": [
    "history = model.fit(train_ds, epochs=20, validation_data=validation_ds)"
   ]
  },
  {
   "cell_type": "code",
   "execution_count": 53,
   "id": "97830eae-f8ff-42c1-90c1-a87b8ab14c16",
   "metadata": {},
   "outputs": [],
   "source": [
    "import cv2\n",
    "import matplotlib.pyplot as plt"
   ]
  },
  {
   "cell_type": "code",
   "execution_count": 147,
   "id": "36e3b3e8-b4b3-427b-8a99-72c24d37d630",
   "metadata": {},
   "outputs": [
    {
     "data": {
      "text/plain": [
       "<matplotlib.image.AxesImage at 0x1baa73932b0>"
      ]
     },
     "execution_count": 147,
     "metadata": {},
     "output_type": "execute_result"
    },
    {
     "data": {
      "image/png": "[encoded data removed]",
      "text/plain": [
       "<Figure size 640x480 with 1 Axes>"
      ]
     },
     "metadata": {},
     "output_type": "display_data"
    }
   ],
   "source": [
    "test_img = cv2.imread('./temp/ROI_0.png')\n",
    "test_img  = cv2.resize(test_img, (32,32))\n",
    "plt.imshow(test_img)"
   ]
  },
  {
   "cell_type": "code",
   "execution_count": 148,
   "id": "51a328e9-573a-41b2-974b-84cbd9720044",
   "metadata": {},
   "outputs": [],
   "source": [
    "test_input = test_img.reshape((1,32,32,3))"
   ]
  },
  {
   "cell_type": "code",
   "execution_count": 149,
   "id": "78408c24-f4b8-442b-ae10-9a33a85f63c3",
   "metadata": {},
   "outputs": [
    {
     "name": "stdout",
     "output_type": "stream",
     "text": [
      "1/1 [==============================] - 0s 38ms/step\n"
     ]
    },
    {
     "data": {
      "text/plain": [
       "array([[0., 0., 0., 0., 0., 0., 0., 0., 0., 0., 0., 0., 0., 0., 0., 0.,\n",
       "        0., 0., 0., 0., 0., 0., 0., 0., 0., 0., 0., 0., 0., 0., 0., 0.,\n",
       "        0., 0., 0., 0., 0., 0., 0., 0., 0., 0., 0., 0., 0., 0., 0., 0.,\n",
       "        0., 0., 0., 0., 0., 1., 0., 0., 0., 0.]], dtype=float32)"
      ]
     },
     "execution_count": 149,
     "metadata": {},
     "output_type": "execute_result"
    }
   ],
   "source": [
    "prob = model.predict(test_input)\n",
    "prob"
   ]
  },
  {
   "cell_type": "code",
   "execution_count": 150,
   "id": "b0effdb0-e003-4c02-82d7-37e6562f0d1d",
   "metadata": {},
   "outputs": [
    {
     "data": {
      "text/plain": [
       "array([53], dtype=int64)"
      ]
     },
     "execution_count": 150,
     "metadata": {},
     "output_type": "execute_result"
    }
   ],
   "source": [
    "pred = prob.argmax(axis=-1)\n",
    "pred"
   ]
  },
  {
   "cell_type": "code",
   "execution_count": 151,
   "id": "35090525-1ba7-4deb-8505-3666fd69be15",
   "metadata": {},
   "outputs": [
    {
     "name": "stdout",
     "output_type": "stream",
     "text": [
      "Predicted as:  स\n"
     ]
    }
   ],
   "source": [
    "print('Predicted as: ', classes[pred[0]])"
   ]
  },
  {
   "cell_type": "code",
   "execution_count": 71,
   "id": "79af5285-0b23-4548-8678-14d3cbf9415d",
   "metadata": {},
   "outputs": [],
   "source": [
    "#For testing words segmented by the other script\n",
    "import os\n",
    "import numpy as np"
   ]
  },
  {
   "cell_type": "code",
   "execution_count": 143,
   "id": "31949cc1-dc1d-4a44-8943-e8d09de037af",
   "metadata": {},
   "outputs": [
    {
     "data": {
      "text/plain": [
       "3"
      ]
     },
     "execution_count": 143,
     "metadata": {},
     "output_type": "execute_result"
    }
   ],
   "source": [
    "images = [img for img in os.listdir('./temp')]\n",
    "len(images)"
   ]
  },
  {
   "cell_type": "code",
   "execution_count": 144,
   "id": "5b6d700d-14d0-4e28-bd0b-feede173b781",
   "metadata": {},
   "outputs": [],
   "source": [
    "predicted_string = ''"
   ]
  },
  {
   "cell_type": "code",
   "execution_count": 145,
   "id": "70cd38d3-1d1b-425c-bc88-877a5ff2c8bb",
   "metadata": {},
   "outputs": [
    {
     "name": "stdout",
     "output_type": "stream",
     "text": [
      "1/1 [==============================] - 0s 31ms/step\n",
      "Predicted as:  स\n",
      "1/1 [==============================] - 0s 31ms/step\n",
      "Predicted as:  फ\n",
      "1/1 [==============================] - 0s 24ms/step\n",
      "Predicted as:  र\n"
     ]
    }
   ],
   "source": [
    "for img in images:\n",
    "    test_img = cv2.imread(os.path.join('./temp', img))\n",
    "    test_img = cv2.bitwise_not(test_img)\n",
    "    #test_img = cv2.GaussianBlur(test_img, (5,5), 0)\n",
    "    kernel = np.ones((2,2),np.uint8)\n",
    "    test_img = cv2.erode(test_img,kernel,iterations = 1)\n",
    "    kernel = np.ones((10,10),np.uint8)\n",
    "    test_img = cv2.dilate(test_img, kernel, iterations = 1)\n",
    "    test_img = cv2.bitwise_not(test_img)\n",
    "    test_img  = cv2.resize(test_img, (28,28))\n",
    "    test_img  = cv2.resize(test_img, (32,32))\n",
    "    cv2.imshow(img, test_img)\n",
    "    cv2.waitKey(0)\n",
    "    cv2.destroyAllWindows()\n",
    "    test_input = test_img.reshape((1,32,32,3))\n",
    "    prob = model.predict(test_input)\n",
    "    ###\n",
    "    \n",
    "    ###\n",
    "    pred = prob.argmax(axis=-1)\n",
    "    print('Predicted as: ', classes[pred[0]])\n",
    "    predicted_string = predicted_string + classes[pred[0]]"
   ]
  },
  {
   "cell_type": "code",
   "execution_count": 146,
   "id": "32d054a5-bcb8-423d-bda5-03a7fb6cdc73",
   "metadata": {},
   "outputs": [
    {
     "data": {
      "text/plain": [
       "'सफर'"
      ]
     },
     "execution_count": 146,
     "metadata": {},
     "output_type": "execute_result"
    }
   ],
   "source": [
    "predicted_string"
   ]
  },
  {
   "cell_type": "code",
   "execution_count": 110,
   "id": "0c0a1bee-67a1-41d3-a996-f544c63db526",
   "metadata": {},
   "outputs": [],
   "source": [
    "model.save('highaccuracymodel.keras')"
   ]
  },
  {
   "cell_type": "code",
   "execution_count": 62,
   "id": "25d15c10-e775-40b4-91d8-01d0a1f641d6",
   "metadata": {},
   "outputs": [],
   "source": [
    "model = load_model('newfinal.keras')"
   ]
  },
  {
   "cell_type": "code",
   "execution_count": null,
   "id": "faf0fd4a-50d8-417c-90fe-a1643dbe0c27",
   "metadata": {},
   "outputs": [],
   "source": []
  }
 ],
 "metadata": {
  "kernelspec": {
   "display_name": "Python 3 (ipykernel)",
   "language": "python",
   "name": "python3"
  },
  "language_info": {
   "codemirror_mode": {
    "name": "ipython",
    "version": 3
   },
   "file_extension": ".py",
   "mimetype": "text/x-python",
   "name": "python",
   "nbconvert_exporter": "python",
   "pygments_lexer": "ipython3",
   "version": "3.10.11"
  }
 },
 "nbformat": 4,
 "nbformat_minor": 5
}
