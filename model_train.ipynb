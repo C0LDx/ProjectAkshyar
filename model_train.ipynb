{
 "cells": [
  {
   "cell_type": "code",
   "execution_count": 1,
   "id": "a040a1aa-84b1-4d05-9f51-d23093af913e",
   "metadata": {},
   "outputs": [
    {
     "name": "stdout",
     "output_type": "stream",
     "text": [
      "WARNING:tensorflow:From C:\\Users\\ferna\\AppData\\Local\\Programs\\Python\\Python311\\Lib\\site-packages\\keras\\src\\losses.py:2976: The name tf.losses.sparse_softmax_cross_entropy is deprecated. Please use tf.compat.v1.losses.sparse_softmax_cross_entropy instead.\n",
      "\n"
     ]
    }
   ],
   "source": [
    "import tensorflow as tf\n",
    "from tensorflow import keras\n",
    "from keras import Sequential\n",
    "from keras.layers import Dense, Conv2D, MaxPooling2D, Flatten, BatchNormalization, Dropout"
   ]
  },
  {
   "cell_type": "code",
   "execution_count": 2,
   "id": "fa38540d-0067-4ca0-9378-2cd61a542f4a",
   "metadata": {},
   "outputs": [
    {
     "name": "stdout",
     "output_type": "stream",
     "text": [
      "['०', '१', '२', '३', '४', '५', '६', '७', '८', '९', 'अ', 'आ', 'इ', 'ई', 'उ', 'ऊ', 'ए', 'ऐ', 'ओ', 'औ', 'अं', 'अः', 'क', 'ख', 'ग', 'घ', 'ङ', 'च', 'छ', 'ज', 'झ', 'ञ', 'ट', 'ठ', 'ड', 'ढ', 'ण', 'त', 'थ', 'द', 'ध', 'न', 'प', 'फ', 'ब', 'भ', 'म', 'य', 'र', 'ल', 'व', 'श', 'ष', 'स', 'ह', 'क्ष', 'त्र', 'ज्ञ']\n"
     ]
    }
   ],
   "source": [
    "classes = [u'\\u0966', u'\\u0967', u'\\u0968', u'\\u0969', u'\\u096A', u'\\u096B', u'\\u096C', u'\\u096D', u'\\u096E', u'\\u096F', u'\\u0905', u'\\u0906',\n",
    "           u'\\u0907', u'\\u0908', u'\\u0909', u'\\u090A', u'\\u090F', u'\\u0910', u'\\u0913', u'\\u0914', u'\\u0905'+u'\\u0902', u'\\u0905'+u'\\u0903', u'\\u0915', \n",
    "           u'\\u0916', u'\\u0917', u'\\u0918', u'\\u0919', u'\\u091A', u'\\u091B', u'\\u091C', u'\\u091D', u'\\u091E', u'\\u091F', u'\\u0920', u'\\u0921', \n",
    "           u'\\u0922', u'\\u0923', u'\\u0924', u'\\u0925', u'\\u0926', u'\\u0927', u'\\u0928', u'\\u092A', u'\\u092B', u'\\u092C', u'\\u092D', \n",
    "           u'\\u092E', u'\\u092F', u'\\u0930', u'\\u0932', u'\\u0935', u'\\u0936', u'\\u0937', u'\\u0938', u'\\u0939', 'क्ष', u'\\u0924'+u'\\u094D'+u'\\u0930', \n",
    "           'ज्ञ' ]\n",
    "print(classes[:])"
   ]
  },
  {
   "cell_type": "code",
   "execution_count": 3,
   "id": "1dc98b47-f740-44b0-b497-b73f3bd8581d",
   "metadata": {},
   "outputs": [
    {
     "name": "stdout",
     "output_type": "stream",
     "text": [
      "Found 10316 files belonging to 58 classes.\n",
      "Found 2596 files belonging to 58 classes.\n"
     ]
    }
   ],
   "source": [
    "train_ds = keras.utils.image_dataset_from_directory(\n",
    "    directory = './dataset/train',\n",
    "    labels = 'inferred',\n",
    "    label_mode = 'int',\n",
    "    batch_size = 32,\n",
    "    image_size = (32,32)\n",
    ")\n",
    "validation_ds = keras.utils.image_dataset_from_directory(\n",
    "    directory = './dataset/test',\n",
    "    labels = 'inferred',\n",
    "    label_mode = 'int',\n",
    "    batch_size = 32,\n",
    "    image_size = (32,32)\n",
    ")"
   ]
  },
  {
   "cell_type": "code",
   "execution_count": 4,
   "id": "8188951f-c1c3-45ee-bf32-31af379112a9",
   "metadata": {},
   "outputs": [],
   "source": [
    "def process(image, label):\n",
    "  image = tf.cast(image/255, tf.float32)\n",
    "  return image,label\n",
    "\n",
    "train_ds = train_ds.map(process)\n",
    "validation_ds = validation_ds.map(process)"
   ]
  },
  {
   "cell_type": "code",
   "execution_count": 5,
   "id": "4c684ddb-6ae4-41d7-a754-a248c7a98910",
   "metadata": {},
   "outputs": [
    {
     "name": "stdout",
     "output_type": "stream",
     "text": [
      "WARNING:tensorflow:From C:\\Users\\ferna\\AppData\\Local\\Programs\\Python\\Python311\\Lib\\site-packages\\keras\\src\\backend.py:873: The name tf.get_default_graph is deprecated. Please use tf.compat.v1.get_default_graph instead.\n",
      "\n",
      "WARNING:tensorflow:From C:\\Users\\ferna\\AppData\\Local\\Programs\\Python\\Python311\\Lib\\site-packages\\keras\\src\\layers\\pooling\\max_pooling2d.py:161: The name tf.nn.max_pool is deprecated. Please use tf.nn.max_pool2d instead.\n",
      "\n"
     ]
    },
    {
     "ename": "ValueError",
     "evalue": "Exception encountered when calling layer \"max_pooling2d_2\" (type MaxPooling2D).\n\nNegative dimension size caused by subtracting 2 from 1 for '{{node max_pooling2d_2/MaxPool}} = MaxPool[T=DT_FLOAT, data_format=\"NHWC\", explicit_paddings=[], ksize=[1, 2, 2, 1], padding=\"VALID\", strides=[1, 2, 2, 1]](Placeholder)' with input shapes: [?,1,1,256].\n\nCall arguments received by layer \"max_pooling2d_2\" (type MaxPooling2D):\n  • inputs=tf.Tensor(shape=(None, 1, 1, 256), dtype=float32)",
     "output_type": "error",
     "traceback": [
      "\u001b[1;31m---------------------------------------------------------------------------\u001b[0m",
      "\u001b[1;31mValueError\u001b[0m                                Traceback (most recent call last)",
      "Cell \u001b[1;32mIn[5], line 15\u001b[0m\n\u001b[0;32m     13\u001b[0m model\u001b[38;5;241m.\u001b[39madd(Conv2D(\u001b[38;5;241m128\u001b[39m, (\u001b[38;5;241m3\u001b[39m, \u001b[38;5;241m3\u001b[39m), activation\u001b[38;5;241m=\u001b[39m\u001b[38;5;124m'\u001b[39m\u001b[38;5;124mrelu\u001b[39m\u001b[38;5;124m'\u001b[39m))\n\u001b[0;32m     14\u001b[0m model\u001b[38;5;241m.\u001b[39madd(Conv2D(\u001b[38;5;241m256\u001b[39m, (\u001b[38;5;241m3\u001b[39m, \u001b[38;5;241m3\u001b[39m), activation\u001b[38;5;241m=\u001b[39m\u001b[38;5;124m'\u001b[39m\u001b[38;5;124mrelu\u001b[39m\u001b[38;5;124m'\u001b[39m))\n\u001b[1;32m---> 15\u001b[0m \u001b[43mmodel\u001b[49m\u001b[38;5;241;43m.\u001b[39;49m\u001b[43madd\u001b[49m\u001b[43m(\u001b[49m\u001b[43mMaxPooling2D\u001b[49m\u001b[43m(\u001b[49m\u001b[43mpool_size\u001b[49m\u001b[38;5;241;43m=\u001b[39;49m\u001b[43m(\u001b[49m\u001b[38;5;241;43m2\u001b[39;49m\u001b[43m,\u001b[49m\u001b[43m \u001b[49m\u001b[38;5;241;43m2\u001b[39;49m\u001b[43m)\u001b[49m\u001b[43m)\u001b[49m\u001b[43m)\u001b[49m\n\u001b[0;32m     16\u001b[0m model\u001b[38;5;241m.\u001b[39madd(Dropout(\u001b[38;5;241m0.25\u001b[39m))\n\u001b[0;32m     18\u001b[0m model\u001b[38;5;241m.\u001b[39madd(Flatten())\n",
      "File \u001b[1;32m~\\AppData\\Local\\Programs\\Python\\Python311\\Lib\\site-packages\\tensorflow\\python\\trackable\\base.py:204\u001b[0m, in \u001b[0;36mno_automatic_dependency_tracking.<locals>._method_wrapper\u001b[1;34m(self, *args, **kwargs)\u001b[0m\n\u001b[0;32m    202\u001b[0m \u001b[38;5;28mself\u001b[39m\u001b[38;5;241m.\u001b[39m_self_setattr_tracking \u001b[38;5;241m=\u001b[39m \u001b[38;5;28;01mFalse\u001b[39;00m  \u001b[38;5;66;03m# pylint: disable=protected-access\u001b[39;00m\n\u001b[0;32m    203\u001b[0m \u001b[38;5;28;01mtry\u001b[39;00m:\n\u001b[1;32m--> 204\u001b[0m   result \u001b[38;5;241m=\u001b[39m \u001b[43mmethod\u001b[49m\u001b[43m(\u001b[49m\u001b[38;5;28;43mself\u001b[39;49m\u001b[43m,\u001b[49m\u001b[43m \u001b[49m\u001b[38;5;241;43m*\u001b[39;49m\u001b[43margs\u001b[49m\u001b[43m,\u001b[49m\u001b[43m \u001b[49m\u001b[38;5;241;43m*\u001b[39;49m\u001b[38;5;241;43m*\u001b[39;49m\u001b[43mkwargs\u001b[49m\u001b[43m)\u001b[49m\n\u001b[0;32m    205\u001b[0m \u001b[38;5;28;01mfinally\u001b[39;00m:\n\u001b[0;32m    206\u001b[0m   \u001b[38;5;28mself\u001b[39m\u001b[38;5;241m.\u001b[39m_self_setattr_tracking \u001b[38;5;241m=\u001b[39m previous_value  \u001b[38;5;66;03m# pylint: disable=protected-access\u001b[39;00m\n",
      "File \u001b[1;32m~\\AppData\\Local\\Programs\\Python\\Python311\\Lib\\site-packages\\keras\\src\\utils\\traceback_utils.py:70\u001b[0m, in \u001b[0;36mfilter_traceback.<locals>.error_handler\u001b[1;34m(*args, **kwargs)\u001b[0m\n\u001b[0;32m     67\u001b[0m     filtered_tb \u001b[38;5;241m=\u001b[39m _process_traceback_frames(e\u001b[38;5;241m.\u001b[39m__traceback__)\n\u001b[0;32m     68\u001b[0m     \u001b[38;5;66;03m# To get the full stack trace, call:\u001b[39;00m\n\u001b[0;32m     69\u001b[0m     \u001b[38;5;66;03m# `tf.debugging.disable_traceback_filtering()`\u001b[39;00m\n\u001b[1;32m---> 70\u001b[0m     \u001b[38;5;28;01mraise\u001b[39;00m e\u001b[38;5;241m.\u001b[39mwith_traceback(filtered_tb) \u001b[38;5;28;01mfrom\u001b[39;00m \u001b[38;5;28;01mNone\u001b[39;00m\n\u001b[0;32m     71\u001b[0m \u001b[38;5;28;01mfinally\u001b[39;00m:\n\u001b[0;32m     72\u001b[0m     \u001b[38;5;28;01mdel\u001b[39;00m filtered_tb\n",
      "File \u001b[1;32m~\\AppData\\Local\\Programs\\Python\\Python311\\Lib\\site-packages\\tensorflow\\python\\framework\\ops.py:1020\u001b[0m, in \u001b[0;36m_create_c_op\u001b[1;34m(graph, node_def, inputs, control_inputs, op_def, extract_traceback)\u001b[0m\n\u001b[0;32m   1017\u001b[0m   c_op \u001b[38;5;241m=\u001b[39m pywrap_tf_session\u001b[38;5;241m.\u001b[39mTF_FinishOperation(op_desc)\n\u001b[0;32m   1018\u001b[0m \u001b[38;5;28;01mexcept\u001b[39;00m errors\u001b[38;5;241m.\u001b[39mInvalidArgumentError \u001b[38;5;28;01mas\u001b[39;00m e:\n\u001b[0;32m   1019\u001b[0m   \u001b[38;5;66;03m# Convert to ValueError for backwards compatibility.\u001b[39;00m\n\u001b[1;32m-> 1020\u001b[0m   \u001b[38;5;28;01mraise\u001b[39;00m \u001b[38;5;167;01mValueError\u001b[39;00m(e\u001b[38;5;241m.\u001b[39mmessage)\n\u001b[0;32m   1022\u001b[0m \u001b[38;5;66;03m# Record the current Python stack trace as the creating stacktrace of this\u001b[39;00m\n\u001b[0;32m   1023\u001b[0m \u001b[38;5;66;03m# TF_Operation.\u001b[39;00m\n\u001b[0;32m   1024\u001b[0m \u001b[38;5;28;01mif\u001b[39;00m extract_traceback:\n",
      "\u001b[1;31mValueError\u001b[0m: Exception encountered when calling layer \"max_pooling2d_2\" (type MaxPooling2D).\n\nNegative dimension size caused by subtracting 2 from 1 for '{{node max_pooling2d_2/MaxPool}} = MaxPool[T=DT_FLOAT, data_format=\"NHWC\", explicit_paddings=[], ksize=[1, 2, 2, 1], padding=\"VALID\", strides=[1, 2, 2, 1]](Placeholder)' with input shapes: [?,1,1,256].\n\nCall arguments received by layer \"max_pooling2d_2\" (type MaxPooling2D):\n  • inputs=tf.Tensor(shape=(None, 1, 1, 256), dtype=float32)"
     ]
    }
   ],
   "source": [
    "model = Sequential()\n",
    "\n",
    "model.add(Conv2D(32, (3, 3), activation='relu', input_shape=(32, 32, 3)))\n",
    "model.add(Conv2D(64, (3, 3), activation='relu'))\n",
    "model.add(MaxPooling2D(pool_size=(2, 2)))\n",
    "model.add(Dropout(0.25))\n",
    "\n",
    "model.add(Conv2D(64, (3, 3), activation='relu'))\n",
    "model.add(Conv2D(128, (3, 3), activation='relu'))\n",
    "model.add(MaxPooling2D(pool_size=(2, 2)))\n",
    "model.add(Dropout(0.25))\n",
    "\n",
    "model.add(Conv2D(128, (3, 3), activation='relu'))\n",
    "model.add(Conv2D(256, (3, 3), activation='relu'))\n",
    "model.add(MaxPooling2D(pool_size=(2, 2)))\n",
    "model.add(Dropout(0.25))\n",
    "\n",
    "model.add(Flatten())\n",
    "model.add(Dense(256, activation='relu'))\n",
    "model.add(Dropout(0.5))\n",
    "model.add(Dense(58, activation='softmax'))"
   ]
  },
  {
   "cell_type": "code",
   "execution_count": 8,
   "id": "09110183-2550-4203-9d5c-593243164557",
   "metadata": {},
   "outputs": [
    {
     "name": "stdout",
     "output_type": "stream",
     "text": [
      "Model: \"sequential\"\n",
      "_________________________________________________________________\n",
      " Layer (type)                Output Shape              Param #   \n",
      "=================================================================\n",
      " conv2d (Conv2D)             (None, 30, 30, 32)        896       \n",
      "                                                                 \n",
      " conv2d_1 (Conv2D)           (None, 28, 28, 64)        18496     \n",
      "                                                                 \n",
      " max_pooling2d (MaxPooling2  (None, 14, 14, 64)        0         \n",
      " D)                                                              \n",
      "                                                                 \n",
      " dropout (Dropout)           (None, 14, 14, 64)        0         \n",
      "                                                                 \n",
      " conv2d_2 (Conv2D)           (None, 12, 12, 64)        36928     \n",
      "                                                                 \n",
      " conv2d_3 (Conv2D)           (None, 10, 10, 128)       73856     \n",
      "                                                                 \n",
      " max_pooling2d_1 (MaxPoolin  (None, 5, 5, 128)         0         \n",
      " g2D)                                                            \n",
      "                                                                 \n",
      " dropout_1 (Dropout)         (None, 5, 5, 128)         0         \n",
      "                                                                 \n",
      " flatten (Flatten)           (None, 3200)              0         \n",
      "                                                                 \n",
      " dense (Dense)               (None, 256)               819456    \n",
      "                                                                 \n",
      " dropout_2 (Dropout)         (None, 256)               0         \n",
      "                                                                 \n",
      " dense_1 (Dense)             (None, 58)                14906     \n",
      "                                                                 \n",
      "=================================================================\n",
      "Total params: 964538 (3.68 MB)\n",
      "Trainable params: 964538 (3.68 MB)\n",
      "Non-trainable params: 0 (0.00 Byte)\n",
      "_________________________________________________________________\n"
     ]
    }
   ],
   "source": [
    "model.summary()"
   ]
  },
  {
   "cell_type": "code",
   "execution_count": 9,
   "id": "39509ad3-94b4-42f8-9f24-8d0fa54db96c",
   "metadata": {},
   "outputs": [],
   "source": [
    "model.compile(optimizer='adam', loss='sparse_categorical_crossentropy', metrics=['accuracy'])"
   ]
  },
  {
   "cell_type": "code",
   "execution_count": 10,
   "id": "047a2b64-d047-46d0-bb41-041329ad4b36",
   "metadata": {},
   "outputs": [
    {
     "name": "stdout",
     "output_type": "stream",
     "text": [
      "Epoch 1/15\n",
      "323/323 [==============================] - 33s 93ms/step - loss: 3.2626 - accuracy: 0.1811 - val_loss: 1.3451 - val_accuracy: 0.6317\n",
      "Epoch 2/15\n",
      "323/323 [==============================] - 30s 92ms/step - loss: 1.3611 - accuracy: 0.6066 - val_loss: 0.6186 - val_accuracy: 0.8070\n",
      "Epoch 3/15\n",
      "323/323 [==============================] - 30s 93ms/step - loss: 0.8750 - accuracy: 0.7361 - val_loss: 0.5125 - val_accuracy: 0.8467\n",
      "Epoch 4/15\n",
      "323/323 [==============================] - 30s 92ms/step - loss: 0.6574 - accuracy: 0.7960 - val_loss: 0.3829 - val_accuracy: 0.8817\n",
      "Epoch 5/15\n",
      "323/323 [==============================] - 30s 92ms/step - loss: 0.5310 - accuracy: 0.8322 - val_loss: 0.3532 - val_accuracy: 0.8921\n",
      "Epoch 6/15\n",
      "323/323 [==============================] - 30s 93ms/step - loss: 0.4552 - accuracy: 0.8560 - val_loss: 0.3197 - val_accuracy: 0.9025\n",
      "Epoch 7/15\n",
      "323/323 [==============================] - 30s 93ms/step - loss: 0.4010 - accuracy: 0.8672 - val_loss: 0.3006 - val_accuracy: 0.9110\n",
      "Epoch 8/15\n",
      "323/323 [==============================] - 30s 93ms/step - loss: 0.3528 - accuracy: 0.8874 - val_loss: 0.2715 - val_accuracy: 0.9203\n",
      "Epoch 9/15\n",
      "323/323 [==============================] - 30s 93ms/step - loss: 0.3134 - accuracy: 0.8976 - val_loss: 0.3051 - val_accuracy: 0.9052\n",
      "Epoch 10/15\n",
      "323/323 [==============================] - 31s 95ms/step - loss: 0.2779 - accuracy: 0.9066 - val_loss: 0.3000 - val_accuracy: 0.9129\n",
      "Epoch 11/15\n",
      "323/323 [==============================] - 31s 95ms/step - loss: 0.2739 - accuracy: 0.9081 - val_loss: 0.2766 - val_accuracy: 0.9153\n",
      "Epoch 12/15\n",
      "323/323 [==============================] - 31s 94ms/step - loss: 0.2485 - accuracy: 0.9173 - val_loss: 0.2650 - val_accuracy: 0.9210\n",
      "Epoch 13/15\n",
      "323/323 [==============================] - 32s 100ms/step - loss: 0.2222 - accuracy: 0.9258 - val_loss: 0.2447 - val_accuracy: 0.9303\n",
      "Epoch 14/15\n",
      "323/323 [==============================] - 31s 94ms/step - loss: 0.2063 - accuracy: 0.9324 - val_loss: 0.2329 - val_accuracy: 0.9326\n",
      "Epoch 15/15\n",
      "323/323 [==============================] - 30s 94ms/step - loss: 0.2014 - accuracy: 0.9317 - val_loss: 0.2279 - val_accuracy: 0.9307\n"
     ]
    }
   ],
   "source": [
    "history = model.fit(train_ds, epochs=15, validation_data=validation_ds)"
   ]
  },
  {
   "cell_type": "code",
   "execution_count": 11,
   "id": "97830eae-f8ff-42c1-90c1-a87b8ab14c16",
   "metadata": {},
   "outputs": [],
   "source": [
    "import cv2\n",
    "import matplotlib.pyplot as plt"
   ]
  },
  {
   "cell_type": "code",
   "execution_count": 85,
   "id": "36e3b3e8-b4b3-427b-8a99-72c24d37d630",
   "metadata": {},
   "outputs": [
    {
     "data": {
      "text/plain": [
       "<matplotlib.image.AxesImage at 0x2b337114c40>"
      ]
     },
     "execution_count": 85,
     "metadata": {},
     "output_type": "execute_result"
    },
    {
     "data": {
      "image/png": "[encoded data removed]",
      "text/plain": [
       "<Figure size 640x480 with 1 Axes>"
      ]
     },
     "metadata": {},
     "output_type": "display_data"
    }
   ],
   "source": [
    "test_img = cv2.imread('test.jpg')\n",
    "test_img  = cv2.resize(test_img, (32,32))\n",
    "plt.imshow(test_img)"
   ]
  },
  {
   "cell_type": "code",
   "execution_count": 86,
   "id": "51a328e9-573a-41b2-974b-84cbd9720044",
   "metadata": {},
   "outputs": [],
   "source": [
    "test_input = test_img.reshape((1,32,32,3))"
   ]
  },
  {
   "cell_type": "code",
   "execution_count": 87,
   "id": "78408c24-f4b8-442b-ae10-9a33a85f63c3",
   "metadata": {},
   "outputs": [
    {
     "name": "stdout",
     "output_type": "stream",
     "text": [
      "1/1 [==============================] - 0s 28ms/step\n"
     ]
    }
   ],
   "source": [
    "prob = model.predict(test_input)"
   ]
  },
  {
   "cell_type": "code",
   "execution_count": 52,
   "id": "b0effdb0-e003-4c02-82d7-37e6562f0d1d",
   "metadata": {},
   "outputs": [
    {
     "data": {
      "text/plain": [
       "array([27], dtype=int64)"
      ]
     },
     "execution_count": 52,
     "metadata": {},
     "output_type": "execute_result"
    }
   ],
   "source": [
    "pred = prob.argmax(axis=-1)\n",
    "pred"
   ]
  },
  {
   "cell_type": "code",
   "execution_count": 53,
   "id": "35090525-1ba7-4deb-8505-3666fd69be15",
   "metadata": {},
   "outputs": [
    {
     "name": "stdout",
     "output_type": "stream",
     "text": [
      "Predicted as:  च\n"
     ]
    }
   ],
   "source": [
    "print('Predicted as: ', classes[pred[0]])"
   ]
  },
  {
   "cell_type": "code",
   "execution_count": 12,
   "id": "79af5285-0b23-4548-8678-14d3cbf9415d",
   "metadata": {},
   "outputs": [],
   "source": [
    "#For testing words segmented by the other script\n",
    "import os\n",
    "import numpy as np"
   ]
  },
  {
   "cell_type": "code",
   "execution_count": 37,
   "id": "31949cc1-dc1d-4a44-8943-e8d09de037af",
   "metadata": {},
   "outputs": [
    {
     "data": {
      "text/plain": [
       "3"
      ]
     },
     "execution_count": 37,
     "metadata": {},
     "output_type": "execute_result"
    }
   ],
   "source": [
    "images = [img for img in os.listdir('./temp')]\n",
    "len(images)"
   ]
  },
  {
   "cell_type": "code",
   "execution_count": 38,
   "id": "5b6d700d-14d0-4e28-bd0b-feede173b781",
   "metadata": {},
   "outputs": [],
   "source": [
    "predicted_string = ''"
   ]
  },
  {
   "cell_type": "code",
   "execution_count": 39,
   "id": "70cd38d3-1d1b-425c-bc88-877a5ff2c8bb",
   "metadata": {},
   "outputs": [
    {
     "name": "stdout",
     "output_type": "stream",
     "text": [
      "1/1 [==============================] - 0s 25ms/step\n",
      "Predicted as:  १\n",
      "1/1 [==============================] - 0s 24ms/step\n",
      "Predicted as:  ०\n",
      "1/1 [==============================] - 0s 25ms/step\n",
      "Predicted as:  ०\n"
     ]
    }
   ],
   "source": [
    "for img in images:\n",
    "    test_img = cv2.imread(os.path.join('./temp', img))\n",
    "    test_img = cv2.bitwise_not(test_img)\n",
    "    test_img = cv2.GaussianBlur(test_img, (5,5), 0)\n",
    "    kernel = np.ones((1,1),np.uint8)\n",
    "    test_img = cv2.erode(test_img,kernel,iterations = 1)\n",
    "    kernel = np.ones((5,5),np.uint8)\n",
    "    test_img = cv2.dilate(test_img, kernel, iterations = 2)\n",
    "    test_img = cv2.bitwise_not(test_img)\n",
    "    test_img  = cv2.resize(test_img, (32,32))\n",
    "    #cv2.imshow(img, test_img)\n",
    "    #cv2.waitKey(0)\n",
    "    #cv2.destroyAllWindows()\n",
    "    test_input = test_img.reshape((1,32,32,3))\n",
    "    prob = model.predict(test_input)\n",
    "    pred = prob.argmax(axis=-1)\n",
    "    print('Predicted as: ', classes[pred[0]])\n",
    "    predicted_string = predicted_string + classes[pred[0]]"
   ]
  },
  {
   "cell_type": "code",
   "execution_count": 40,
   "id": "32d054a5-bcb8-423d-bda5-03a7fb6cdc73",
   "metadata": {},
   "outputs": [
    {
     "data": {
      "text/plain": [
       "'१००'"
      ]
     },
     "execution_count": 40,
     "metadata": {},
     "output_type": "execute_result"
    }
   ],
   "source": [
    "predicted_string"
   ]
  },
  {
   "cell_type": "code",
   "execution_count": null,
   "id": "f06e9dcc-e84c-48f5-9c25-cdd28502a0cc",
   "metadata": {},
   "outputs": [],
   "source": []
  }
 ],
 "metadata": {
  "kernelspec": {
   "display_name": "Python 3 (ipykernel)",
   "language": "python",
   "name": "python3"
  },
  "language_info": {
   "codemirror_mode": {
    "name": "ipython",
    "version": 3
   },
   "file_extension": ".py",
   "mimetype": "text/x-python",
   "name": "python",
   "nbconvert_exporter": "python",
   "pygments_lexer": "ipython3",
   "version": "3.11.6"
  }
 },
 "nbformat": 4,
 "nbformat_minor": 5
}
