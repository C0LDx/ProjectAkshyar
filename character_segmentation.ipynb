{
 "cells": [
  {
   "cell_type": "code",
   "execution_count": 363,
   "id": "1188cda8-314b-4368-becc-72acfa12f87b",
   "metadata": {},
   "outputs": [],
   "source": [
    "import cv2\n",
    "import numpy as np\n",
    "import matplotlib.pyplot as plt"
   ]
  },
  {
   "cell_type": "code",
   "execution_count": 364,
   "id": "6c390c31-b33b-4f95-b6eb-a8c7c2bac22f",
   "metadata": {},
   "outputs": [
    {
     "data": {
      "text/plain": [
       "<matplotlib.image.AxesImage at 0x2cf8d7bc650>"
      ]
     },
     "execution_count": 364,
     "metadata": {},
     "output_type": "execute_result"
    },
    {
     "data": {
      "image/png": "[encoded data removed]",
      "text/plain": [
       "<Figure size 640x480 with 1 Axes>"
      ]
     },
     "metadata": {},
     "output_type": "display_data"
    }
   ],
   "source": [
    "image = cv2.imread('image2.png')\n",
    "original = image.copy()\n",
    "original = cv2.resize(original, (800,500))\n",
    "image = cv2.bitwise_not(image)\n",
    "image = cv2.resize(image, (800,500))         \n",
    "plt.imshow(original)"
   ]
  },
  {
   "cell_type": "code",
   "execution_count": 365,
   "id": "be560a7b-611a-48ee-bede-8a0d25785d44",
   "metadata": {},
   "outputs": [],
   "source": [
    "gray = cv2.cvtColor(image, cv2.COLOR_BGR2GRAY)\n",
    "#cv2.imshow(\"gray\", gray)\n",
    "#cv2.waitKey(0)\n",
    "#cv2.destroyAllWindows()"
   ]
  },
  {
   "cell_type": "code",
   "execution_count": 366,
   "id": "61fe0391-8833-4238-98db-7d92cac450f7",
   "metadata": {},
   "outputs": [],
   "source": [
    "blur = cv2.GaussianBlur(gray, (5,5), 0)\n",
    "#cv2.imshow(\"blur\", blur)\n",
    "#cv2.waitKey(0)\n",
    "#cv2.destroyAllWindows()"
   ]
  },
  {
   "cell_type": "code",
   "execution_count": 367,
   "id": "bd658a17-9dc9-4efc-bb8c-98a0fe075f79",
   "metadata": {},
   "outputs": [],
   "source": [
    "kernel = np.ones((1,25),np.uint8)\n",
    "erosion = cv2.erode(image,kernel,iterations = 1)\n",
    "cv2.imshow(\"blur\", erosion)\n",
    "cv2.waitKey(0)\n",
    "cv2.destroyAllWindows()\n",
    "kernel = np.ones((11,50),np.uint8)\n",
    "dilation = cv2.dilate(erosion, kernel, iterations = 1)\n",
    "cv2.imshow(\"blur\", dilation)\n",
    "cv2.waitKey(0)\n",
    "cv2.destroyAllWindows()\n",
    "canny = cv2.Canny(dilation, 200, 255, 5)\n",
    "cv2.imshow('canny', canny)\n",
    "cv2.waitKey(0)\n",
    "cv2.destroyAllWindows()"
   ]
  },
  {
   "cell_type": "code",
   "execution_count": 368,
   "id": "d8729869-172d-4d2d-97e4-dd17f341b94f",
   "metadata": {},
   "outputs": [
    {
     "name": "stdout",
     "output_type": "stream",
     "text": [
      "10958.5\n"
     ]
    }
   ],
   "source": [
    "cnts, _ = cv2.findContours(canny, cv2.RETR_EXTERNAL, cv2.CHAIN_APPROX_SIMPLE)\n",
    "largest = max(cnts, key=cv2.contourArea)\n",
    "print(cv2.contourArea(largest))"
   ]
  },
  {
   "cell_type": "code",
   "execution_count": 369,
   "id": "9a8ca0dc-d643-41f8-bb5d-e7d00dfccd37",
   "metadata": {},
   "outputs": [
    {
     "data": {
      "text/plain": [
       "True"
      ]
     },
     "execution_count": 369,
     "metadata": {},
     "output_type": "execute_result"
    }
   ],
   "source": [
    "#implement logic to do the following only if 'largest' crosses a certain threshold\n",
    "#calculate the threshold by hit and trial?\n",
    "#this is done to prevent horizontal lines being removed when there are multiple numbers being drawn and there is no shirorekha, etc.\n",
    "if cv2.contourArea(largest)>4000:\n",
    "    mask = np.zeros_like(original)\n",
    "    cv2.drawContours(mask, [largest], 0, (255,255,255), thickness=cv2.FILLED)\n",
    "    mask = 255-mask\n",
    "    result = cv2.bitwise_and(image, mask)\n",
    "else:\n",
    "    result = image\n",
    "cv2.imshow('result', result)\n",
    "cv2.waitKey(0)\n",
    "cv2.destroyAllWindows()\n",
    "cv2.imwrite('removed.png', result)"
   ]
  },
  {
   "cell_type": "code",
   "execution_count": 370,
   "id": "f0612614-8376-431d-af3a-3d5de7022900",
   "metadata": {},
   "outputs": [],
   "source": [
    "new_img = cv2.imread('removed.png')\n",
    "new_gray = cv2.cvtColor(new_img, cv2.COLOR_BGR2GRAY)\n",
    "kernel = np.ones((1,1),np.uint8)\n",
    "erosion = cv2.erode(new_gray,kernel,iterations = 1)\n",
    "kernel = np.ones((5,5),np.uint8)\n",
    "dilation = cv2.dilate(erosion, kernel, iterations = 1)\n",
    "blurred = cv2.GaussianBlur(dilation, (3,13), 0)\n",
    "canny = cv2.Canny(blurred, 200, 255, 5)\n",
    "cv2.imshow('dilation',dilation)\n",
    "cv2.waitKey(0)\n",
    "cv2.destroyAllWindows()"
   ]
  },
  {
   "cell_type": "code",
   "execution_count": 371,
   "id": "b863f4e3-bbba-4e10-a0ac-01ba39cb9e74",
   "metadata": {},
   "outputs": [],
   "source": [
    "min_area = 6000"
   ]
  },
  {
   "cell_type": "code",
   "execution_count": 372,
   "id": "a89729d1-88b6-4833-94d9-2f12b2acf538",
   "metadata": {},
   "outputs": [
    {
     "name": "stdout",
     "output_type": "stream",
     "text": [
      "15470.5\n",
      "10059.0\n",
      "10557.5\n"
     ]
    }
   ],
   "source": [
    "contours, _ = cv2.findContours(blurred, cv2.RETR_EXTERNAL, cv2.CHAIN_APPROX_SIMPLE)\n",
    "contours = sorted(contours, key=lambda c: cv2.boundingRect(c)[0])\n",
    "len(contours)\n",
    "for c in contours:\n",
    "    print(cv2.contourArea(c))"
   ]
  },
  {
   "cell_type": "code",
   "execution_count": 373,
   "id": "6057382c-1a32-4c37-8af2-3a088bb63db5",
   "metadata": {},
   "outputs": [
    {
     "name": "stdout",
     "output_type": "stream",
     "text": [
      "0\n",
      "0\n"
     ]
    }
   ],
   "source": [
    "contour_combination = []\n",
    "pair = []\n",
    "for c in contours:\n",
    "    if cv2.contourArea(c) < min_area:\n",
    "        contour_combination.append(c)\n",
    "\n",
    "print(len(contour_combination))\n",
    "\n",
    "for c in contour_combination:\n",
    "    pair = [[contour_combination[i], contour_combination[i+1]] for i in range(0, len(contour_combination)-1, 2)]\n",
    "\n",
    "print(len(pair))\n",
    "for p in pair:\n",
    "    x1,y1,w1,h1 = cv2.boundingRect(p[0])\n",
    "    x2,y2,w2,h2 = cv2.boundingRect(p[1])\n",
    "    cv2.rectangle(new_img, (x1, y1), (x2 + w2, y2 + h2), (36,255,12), 2)"
   ]
  },
  {
   "cell_type": "code",
   "execution_count": 374,
   "id": "d7780d6b-1303-488c-91cc-e46010925900",
   "metadata": {},
   "outputs": [
    {
     "name": "stdout",
     "output_type": "stream",
     "text": [
      "15470.5\n",
      "10059.0\n",
      "10557.5\n"
     ]
    }
   ],
   "source": [
    "for c in contours:\n",
    "  area = cv2.contourArea(c)\n",
    "  print(area)\n",
    "  if area > min_area:\n",
    "    x,y,w,h = cv2.boundingRect(c)\n",
    "    #To show bounding boxes\n",
    "    cv2.rectangle(new_img, (x, y), (x + w, y + h), (36,255,12), 2)"
   ]
  },
  {
   "cell_type": "code",
   "execution_count": 375,
   "id": "8f5f5d1e-1f41-404c-9f91-1c2506433f2f",
   "metadata": {},
   "outputs": [],
   "source": [
    "cv2.imshow('boxed',new_img)\n",
    "cv2.waitKey(0)\n",
    "cv2.destroyAllWindows()"
   ]
  },
  {
   "cell_type": "code",
   "execution_count": 376,
   "id": "ec88bdc3-0dc8-4a47-be56-57f0ebdecac6",
   "metadata": {},
   "outputs": [],
   "source": [
    "boxed_original = original.copy()"
   ]
  },
  {
   "cell_type": "code",
   "execution_count": 377,
   "id": "3609656a-f009-41d4-a28e-c88a987ad507",
   "metadata": {},
   "outputs": [],
   "source": [
    "import os\n",
    "temp_path = './temp'\n",
    "if not os.path.exists(temp_path):\n",
    "    os.makedirs(temp_path)"
   ]
  },
  {
   "cell_type": "code",
   "execution_count": 378,
   "id": "f62e5b0c-e7c3-46a8-ae8e-085aeaf264f8",
   "metadata": {},
   "outputs": [
    {
     "name": "stdout",
     "output_type": "stream",
     "text": [
      "15470.5\n",
      "ROI Shape:  (200, 198, 3)\n",
      "White Image Shape:  (200, 200, 3)\n",
      "(200, 200, 3)\n",
      "10059.0\n",
      "ROI Shape:  (188, 139, 3)\n",
      "White Image Shape:  (188, 188, 3)\n",
      "(188, 188, 3)\n",
      "10557.5\n",
      "ROI Shape:  (184, 165, 3)\n",
      "White Image Shape:  (184, 184, 3)\n",
      "(184, 184, 3)\n"
     ]
    }
   ],
   "source": [
    "image_number = 0\n",
    "for i in range(len(contours)):\n",
    "    area = cv2.contourArea(contours[i])\n",
    "    print(area)\n",
    "    if area > min_area:\n",
    "        x,y,w,h = cv2.boundingRect(contours[i])\n",
    "        cv2.rectangle(boxed_original, (x, y), (x + w, y + h), (57,255,20), 3)\n",
    "        ROI = original[y-20:y+h, x:x+w]\n",
    "        image_number += 1\n",
    "        ###\n",
    "        adjusted_height = h+20\n",
    "        square_img = np.zeros((adjusted_height,adjusted_height,3), np.uint8)\n",
    "        square_img[:,:] = (255,255,255)\n",
    "        x_offset = int((adjusted_height-w)/2)\n",
    "        ######Removable\n",
    "        print('ROI Shape: ', ROI.shape)\n",
    "        print('White Image Shape: ', square_img.shape)\n",
    "        print(square_img.shape)\n",
    "        ######\n",
    "        square_img[:,x_offset:x_offset+w] = ROI.copy()\n",
    "        ######The below line is to display the square segmented images\n",
    "        cv2.imshow('Square Segmented Image',square_img)\n",
    "        cv2.waitKey(0)\n",
    "        cv2.destroyAllWindows()\n",
    "        ######\n",
    "        cv2.imwrite(\"./temp/ROI_{}.png\".format(image_number), square_img)\n",
    "        ###\n",
    "    else:\n",
    "        for p in pair:\n",
    "            if cv2.contourArea(p[0]) == area:\n",
    "                x1,y1,w1,h1 = cv2.boundingRect(p[0])\n",
    "                x2,y2,w2,h2 = cv2.boundingRect(p[1])\n",
    "                cv2.rectangle(boxed_original, (x1, y1), (x2 + w2, y2 + h2), (57,255,20), 3)\n",
    "                ROI = original[y1-20:y2+h2, x1:x2+w2]\n",
    "                cv2.imwrite(\"./temp/ROI_{}.png\".format(image_number), ROI)\n",
    "                image_number += 1"
   ]
  },
  {
   "cell_type": "code",
   "execution_count": 379,
   "id": "86d53493-9923-4cf8-96e4-7b5a00b8fbfb",
   "metadata": {},
   "outputs": [],
   "source": [
    "#source = np.zeros((h,w,3), np.uint8)\n",
    "#white_bg = np.zeros((h,h,3), np.uint8)\n",
    "#white_bg[:,:] = (255,255,255)\n",
    "#x_offset = int((h-w)/2)\n",
    "#print(x_offset)\n",
    "#white_bg[:,x_offset:x_offset+w] = source.copy()\n",
    "#cv2.imshow('source',white_bg)\n",
    "#cv2.waitKey(0)\n",
    "#cv2.destroyAllWindows()"
   ]
  },
  {
   "cell_type": "code",
   "execution_count": null,
   "id": "4cd08c16-534a-4939-bac3-4450c9805204",
   "metadata": {},
   "outputs": [],
   "source": [
    "cv2.imshow('segmented',boxed_original)\n",
    "cv2.waitKey(0)\n",
    "cv2.destroyAllWindows()"
   ]
  },
  {
   "cell_type": "code",
   "execution_count": null,
   "id": "81a9357b-3c2a-4b7d-8c53-24331306eb14",
   "metadata": {},
   "outputs": [],
   "source": []
  }
 ],
 "metadata": {
  "kernelspec": {
   "display_name": "Python 3 (ipykernel)",
   "language": "python",
   "name": "python3"
  },
  "language_info": {
   "codemirror_mode": {
    "name": "ipython",
    "version": 3
   },
   "file_extension": ".py",
   "mimetype": "text/x-python",
   "name": "python",
   "nbconvert_exporter": "python",
   "pygments_lexer": "ipython3",
   "version": "3.11.3"
  }
 },
 "nbformat": 4,
 "nbformat_minor": 5
}
