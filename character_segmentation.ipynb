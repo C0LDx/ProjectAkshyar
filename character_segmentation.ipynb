{
 "cells": [
  {
   "cell_type": "code",
   "execution_count": 115,
   "id": "1188cda8-314b-4368-becc-72acfa12f87b",
   "metadata": {},
   "outputs": [],
   "source": [
    "import cv2\n",
    "import numpy as np\n",
    "import matplotlib.pyplot as plt"
   ]
  },
  {
   "cell_type": "code",
   "execution_count": 116,
   "id": "6c390c31-b33b-4f95-b6eb-a8c7c2bac22f",
   "metadata": {},
   "outputs": [
    {
     "data": {
      "image/png": "[encoded data removed]",
      "text/plain": [
       "<Figure size 640x480 with 1 Axes>"
      ]
     },
     "metadata": {},
     "output_type": "display_data"
    }
   ],
   "source": [
    "image = cv2.imread('samaya.png')\n",
    "original = image.copy()\n",
    "plt.imshow(original)\n",
    "image = cv2.bitwise_not(image)"
   ]
  },
  {
   "cell_type": "code",
   "execution_count": 117,
   "id": "be560a7b-611a-48ee-bede-8a0d25785d44",
   "metadata": {},
   "outputs": [],
   "source": [
    "gray = cv2.cvtColor(image, cv2.COLOR_BGR2GRAY)\n",
    "cv2.imshow(\"gray\", gray)\n",
    "cv2.waitKey(0)\n",
    "cv2.destroyAllWindows()"
   ]
  },
  {
   "cell_type": "code",
   "execution_count": 118,
   "id": "61fe0391-8833-4238-98db-7d92cac450f7",
   "metadata": {},
   "outputs": [],
   "source": [
    "blur = cv2.GaussianBlur(gray, (5,5), 0)\n",
    "cv2.imshow(\"blur\", blur)\n",
    "cv2.waitKey(0)\n",
    "cv2.destroyAllWindows()"
   ]
  },
  {
   "cell_type": "code",
   "execution_count": 119,
   "id": "bd658a17-9dc9-4efc-bb8c-98a0fe075f79",
   "metadata": {},
   "outputs": [],
   "source": [
    "kernel = np.ones((1,23),np.uint8)\n",
    "erosion = cv2.erode(image,kernel,iterations = 1)\n",
    "cv2.imshow(\"blur\", erosion)\n",
    "cv2.waitKey(0)\n",
    "cv2.destroyAllWindows()\n",
    "kernel = np.ones((11,50),np.uint8)\n",
    "dilation = cv2.dilate(erosion, kernel, iterations = 1)\n",
    "cv2.imshow(\"blur\", dilation)\n",
    "cv2.waitKey(0)\n",
    "cv2.destroyAllWindows()\n",
    "canny = cv2.Canny(dilation, 200, 255, 5)\n",
    "cv2.imshow('canny', canny)\n",
    "cv2.waitKey(0)\n",
    "cv2.destroyAllWindows()"
   ]
  },
  {
   "cell_type": "code",
   "execution_count": 120,
   "id": "d8729869-172d-4d2d-97e4-dd17f341b94f",
   "metadata": {},
   "outputs": [
    {
     "name": "stdout",
     "output_type": "stream",
     "text": [
      "1733.5\n"
     ]
    }
   ],
   "source": [
    "cnts, _ = cv2.findContours(canny, cv2.RETR_EXTERNAL, cv2.CHAIN_APPROX_SIMPLE)\n",
    "largest = max(cnts, key=cv2.contourArea)\n",
    "print(cv2.contourArea(largest))"
   ]
  },
  {
   "cell_type": "code",
   "execution_count": 121,
   "id": "9a8ca0dc-d643-41f8-bb5d-e7d00dfccd37",
   "metadata": {},
   "outputs": [
    {
     "data": {
      "text/plain": [
       "True"
      ]
     },
     "execution_count": 121,
     "metadata": {},
     "output_type": "execute_result"
    }
   ],
   "source": [
    "#implement logic to do the following only if 'largest' crosses a certain threshold\n",
    "#calculate the threshold by hit and trial?\n",
    "#this is done to prevent horizontal lines being removed when there are multiple numbers being drawn and there is no shirorekha, etc.\n",
    "if cv2.contourArea(largest)>3000:\n",
    "    mask = np.zeros_like(original)\n",
    "    cv2.drawContours(mask, [largest], 0, (255,255,255), thickness=cv2.FILLED)\n",
    "    mask = 255-mask\n",
    "    result = cv2.bitwise_and(image, mask)\n",
    "else:\n",
    "    result = image\n",
    "cv2.imshow('result', result)\n",
    "cv2.waitKey(0)\n",
    "cv2.destroyAllWindows()\n",
    "cv2.imwrite('removed.png', result)"
   ]
  },
  {
   "cell_type": "code",
   "execution_count": 122,
   "id": "f0612614-8376-431d-af3a-3d5de7022900",
   "metadata": {},
   "outputs": [],
   "source": [
    "new_img = cv2.imread('removed.png')\n",
    "new_gray = cv2.cvtColor(new_img, cv2.COLOR_BGR2GRAY)\n",
    "kernel = np.ones((1,1),np.uint8)\n",
    "erosion = cv2.erode(new_gray,kernel,iterations = 1)\n",
    "kernel = np.ones((5,5),np.uint8)\n",
    "dilation = cv2.dilate(erosion, kernel, iterations = 2)\n",
    "blurred = cv2.GaussianBlur(dilation, (3,13), 0)\n",
    "cv2.imshow('dilation',blurred)\n",
    "cv2.waitKey(0)\n",
    "cv2.destroyAllWindows()"
   ]
  },
  {
   "cell_type": "code",
   "execution_count": 123,
   "id": "a89729d1-88b6-4833-94d9-2f12b2acf538",
   "metadata": {},
   "outputs": [
    {
     "data": {
      "text/plain": [
       "3"
      ]
     },
     "execution_count": 123,
     "metadata": {},
     "output_type": "execute_result"
    }
   ],
   "source": [
    "contours, _ = cv2.findContours(blurred, cv2.RETR_EXTERNAL, cv2.CHAIN_APPROX_SIMPLE)\n",
    "contours = sorted(contours, key=lambda c: cv2.boundingRect(c)[0])\n",
    "len(contours)"
   ]
  },
  {
   "cell_type": "code",
   "execution_count": 124,
   "id": "6057382c-1a32-4c37-8af2-3a088bb63db5",
   "metadata": {},
   "outputs": [
    {
     "name": "stdout",
     "output_type": "stream",
     "text": [
      "0\n",
      "2\n"
     ]
    }
   ],
   "source": [
    "contour_combination = []\n",
    "for c in contours:\n",
    "    if cv2.contourArea(c) < 4000:\n",
    "        contour_combination.append(c)\n",
    "\n",
    "print(len(contour_combination))\n",
    "\n",
    "for c in contour_combination:\n",
    "    pair = [[contour_combination[i], contour_combination[i+1]] for i in range(0, len(contour_combination)-1, 2)]\n",
    "\n",
    "print(len(pair))\n",
    "for p in pair:\n",
    "    x1,y1,w1,h1 = cv2.boundingRect(p[0])\n",
    "    x2,y2,w2,h2 = cv2.boundingRect(p[1])\n",
    "    cv2.rectangle(new_img, (x1, y1), (x2 + w2, y2 + h2), (36,255,12), 2)"
   ]
  },
  {
   "cell_type": "code",
   "execution_count": 125,
   "id": "d7780d6b-1303-488c-91cc-e46010925900",
   "metadata": {},
   "outputs": [
    {
     "name": "stdout",
     "output_type": "stream",
     "text": [
      "10627.5\n",
      "26261.0\n",
      "26591.0\n"
     ]
    }
   ],
   "source": [
    "for c in contours:\n",
    "  area = cv2.contourArea(c)\n",
    "  print(area)\n",
    "  if area > 4000:\n",
    "    x,y,w,h = cv2.boundingRect(c)\n",
    "    #To show bounding boxes\n",
    "    cv2.rectangle(new_img, (x, y), (x + w, y + h), (36,255,12), 2)"
   ]
  },
  {
   "cell_type": "code",
   "execution_count": 126,
   "id": "8f5f5d1e-1f41-404c-9f91-1c2506433f2f",
   "metadata": {},
   "outputs": [],
   "source": [
    "cv2.imshow('boxed',new_img)\n",
    "cv2.waitKey(0)\n",
    "cv2.destroyAllWindows()"
   ]
  },
  {
   "cell_type": "code",
   "execution_count": 127,
   "id": "3609656a-f009-41d4-a28e-c88a987ad507",
   "metadata": {},
   "outputs": [],
   "source": [
    "import os\n",
    "temp_path = './temp'\n",
    "if not os.path.exists(temp_path):\n",
    "    os.makedirs(temp_path)"
   ]
  },
  {
   "cell_type": "code",
   "execution_count": 128,
   "id": "6681600c-1040-4203-ab0f-0b1b5b2c43b2",
   "metadata": {},
   "outputs": [
    {
     "name": "stdout",
     "output_type": "stream",
     "text": [
      "10627.5\n",
      "26261.0\n",
      "26591.0\n"
     ]
    }
   ],
   "source": [
    "min_area = 4000\n",
    "image_number = 0\n",
    "for i in range(len(contours)):\n",
    "    area = cv2.contourArea(contours[i])\n",
    "    print(area)\n",
    "    if area > min_area:\n",
    "        x,y,w,h = cv2.boundingRect(contours[i])\n",
    "        #cv2.rectangle(original, (x, y), (x + w, y + h), (57,255,20), 2)\n",
    "        ROI = original[y-10:y+h, x:x+w]\n",
    "        cv2.imwrite(\"./temp/ROI_{}.png\".format(image_number), ROI)\n",
    "        image_number += 1\n",
    "    else:\n",
    "        for p in pair:\n",
    "            if cv2.contourArea(p[0]) == area:\n",
    "                x1,y1,w1,h1 = cv2.boundingRect(p[0])\n",
    "                x2,y2,w2,h2 = cv2.boundingRect(p[1])\n",
    "                #cv2.rectangle(new_img, (x1, y1), (x2 + w2, y2 + h2), (36,255,12), 2)\n",
    "                ROI = original[y1-10:y2+h2, x1:x2+w2]\n",
    "                cv2.imwrite(\"./temp/ROI_{}.png\".format(image_number), ROI)\n",
    "                image_number += 1"
   ]
  },
  {
   "cell_type": "code",
   "execution_count": null,
   "id": "4cd08c16-534a-4939-bac3-4450c9805204",
   "metadata": {},
   "outputs": [],
   "source": []
  }
 ],
 "metadata": {
  "kernelspec": {
   "display_name": "Python 3 (ipykernel)",
   "language": "python",
   "name": "python3"
  },
  "language_info": {
   "codemirror_mode": {
    "name": "ipython",
    "version": 3
   },
   "file_extension": ".py",
   "mimetype": "text/x-python",
   "name": "python",
   "nbconvert_exporter": "python",
   "pygments_lexer": "ipython3",
   "version": "3.10.10"
  }
 },
 "nbformat": 4,
 "nbformat_minor": 5
}
