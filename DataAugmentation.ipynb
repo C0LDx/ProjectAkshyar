{
 "cells": [
  {
   "cell_type": "code",
   "execution_count": 33,
   "id": "531f606f-e294-489a-8645-d17b4bd472a2",
   "metadata": {},
   "outputs": [],
   "source": [
    "from keras.preprocessing import image\n",
    "from keras.preprocessing.image import ImageDataGenerator\n",
    "import os"
   ]
  },
  {
   "cell_type": "code",
   "execution_count": 35,
   "id": "e7b8d0eb-925e-4cba-9bbf-1b906119482a",
   "metadata": {},
   "outputs": [],
   "source": [
    "dir_list = ['./dataset/train', './dataset/test']"
   ]
  },
  {
   "cell_type": "code",
   "execution_count": 42,
   "id": "45ba8f98-27d9-47e5-a489-74428bae4ca0",
   "metadata": {},
   "outputs": [],
   "source": [
    "data_gen = ImageDataGenerator(\n",
    "    rotation_range = 10,\n",
    "    shear_range = 0.1,\n",
    "    zoom_range = 0.1,\n",
    "    width_shift_range = 0.05,\n",
    "    height_shift_range = 0.05\n",
    ")"
   ]
  },
  {
   "cell_type": "code",
   "execution_count": 44,
   "id": "7d975ae3-309a-4506-9673-978b366c3d52",
   "metadata": {},
   "outputs": [],
   "source": [
    "for dir in dir_list:\n",
    "    folder_list = [folder for folder in os.listdir(dir)]\n",
    "    for folder in folder_list:\n",
    "        path = os.path.join(dir,folder)\n",
    "        images = [img for img in os.listdir(path)]\n",
    "        for img in images:\n",
    "            img = image.load_img(os.path.join(path,img), target_size=(32,32))\n",
    "            img  = image.img_to_array(img)\n",
    "            input_image = img.reshape(1,32,32,3)\n",
    "            i=0\n",
    "            for output in data_gen.flow(input_image, batch_size=1, save_to_dir=path):\n",
    "                i=i+1\n",
    "                if i==10:\n",
    "                    break"
   ]
  },
  {
   "cell_type": "code",
   "execution_count": null,
   "id": "231b5816-b984-49af-8bd3-65199f50dd14",
   "metadata": {},
   "outputs": [],
   "source": []
  }
 ],
 "metadata": {
  "kernelspec": {
   "display_name": "Python 3 (ipykernel)",
   "language": "python",
   "name": "python3"
  },
  "language_info": {
   "codemirror_mode": {
    "name": "ipython",
    "version": 3
   },
   "file_extension": ".py",
   "mimetype": "text/x-python",
   "name": "python",
   "nbconvert_exporter": "python",
   "pygments_lexer": "ipython3",
   "version": "3.10.11"
  }
 },
 "nbformat": 4,
 "nbformat_minor": 5
}
