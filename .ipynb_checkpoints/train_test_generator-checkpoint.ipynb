{
 "cells": [
  {
   "cell_type": "markdown",
   "id": "ed313402-23d9-41f0-8011-772fc8a3f811",
   "metadata": {},
   "source": [
    "<h1>This file generates the train and test dataset from all three subfolders in the images folder</h1>"
   ]
  },
  {
   "cell_type": "code",
   "execution_count": 1,
   "id": "2a85e7d0-da15-4883-9baa-31e8a5e78870",
   "metadata": {},
   "outputs": [],
   "source": [
    "import os\n",
    "import shutil\n",
    "import random"
   ]
  },
  {
   "cell_type": "code",
   "execution_count": 2,
   "id": "0cc4b5c7-5ced-4f18-ac23-cc1c141659d5",
   "metadata": {},
   "outputs": [],
   "source": [
    "data_folders = ['./images/numerals','./images/vowels','./images/consonants']\n",
    "train_folder = './dataset/train'\n",
    "test_folder = './dataset/test'\n",
    "list_of_folder = [train_folder, test_folder]"
   ]
  },
  {
   "cell_type": "code",
   "execution_count": 3,
   "id": "1a01a428-a442-4356-8552-cb6cbd767445",
   "metadata": {},
   "outputs": [],
   "source": [
    "for folder in list_of_folder:\n",
    "    if not os.path.exists(folder):\n",
    "        os.makedirs(folder)"
   ]
  },
  {
   "cell_type": "code",
   "execution_count": 4,
   "id": "db9d8fab-5ee6-4b8f-a5b4-79c0fbc3974d",
   "metadata": {},
   "outputs": [],
   "source": [
    "random.seed(0)\n",
    "folder_counter = 0"
   ]
  },
  {
   "cell_type": "code",
   "execution_count": 5,
   "id": "05dc0091-85b8-480d-b65d-47078edeb3ca",
   "metadata": {},
   "outputs": [],
   "source": [
    "for folder in data_folders:\n",
    "    for i in range(37):\n",
    "        #actual_path = \"./images/numerals/0\"\n",
    "        actual_path = os.path.join(folder, str(i))\n",
    "        if os.path.exists(actual_path):\n",
    "            images = [img for img in os.listdir(actual_path)]\n",
    "            random.shuffle(images)\n",
    "            train_size = int(len(images) * 0.8)\n",
    "            test_size = len(images) - train_size\n",
    "            for j, file in enumerate(images):\n",
    "                if j < train_size:\n",
    "                    destination_folder = os.path.join(train_folder, '0'+str(folder_counter) if folder_counter<10 else str(folder_counter))\n",
    "                else:\n",
    "                    destination_folder = os.path.join(test_folder, '0'+str(folder_counter) if folder_counter<10 else str(folder_counter))\n",
    "                if not os.path.exists(destination_folder):\n",
    "                    os.makedirs(destination_folder)\n",
    "                shutil.copy(os.path.join(actual_path, file), os.path.join(destination_folder, file))\n",
    "            folder_counter = folder_counter + 1"
   ]
  }
 ],
 "metadata": {
  "kernelspec": {
   "display_name": "Python 3 (ipykernel)",
   "language": "python",
   "name": "python3"
  },
  "language_info": {
   "codemirror_mode": {
    "name": "ipython",
    "version": 3
   },
   "file_extension": ".py",
   "mimetype": "text/x-python",
   "name": "python",
   "nbconvert_exporter": "python",
   "pygments_lexer": "ipython3",
   "version": "3.10.11"
  }
 },
 "nbformat": 4,
 "nbformat_minor": 5
}
